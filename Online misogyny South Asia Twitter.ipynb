{
 "cells": [
  {
   "cell_type": "code",
   "execution_count": 1,
   "metadata": {},
   "outputs": [],
   "source": [
    "import pandas as pd\n",
    "import numpy as np\n",
    "import random\n",
    "from string import printable\n",
    "import string\n",
    "import pickle\n",
    "import nltk\n",
    "from nltk.corpus import stopwords\n",
    "from nltk.tokenize import word_tokenize\n",
    "from nltk import WordNetLemmatizer"
   ]
  },
  {
   "cell_type": "code",
   "execution_count": 2,
   "metadata": {},
   "outputs": [],
   "source": [
    "#get the labelled/ground-truth dataset\n",
    "labelled=pd.read_csv(\"D:/Desktop/misogynylabelled.csv\", encoding='ISO 8859-1')"
   ]
  },
  {
   "cell_type": "code",
   "execution_count": 1,
   "metadata": {},
   "outputs": [],
   "source": [
    "#Cleaning the data"
   ]
  },
  {
   "cell_type": "code",
   "execution_count": 3,
   "metadata": {},
   "outputs": [],
   "source": [
    "#removing handle names\n",
    "labelled[\"text\"] = labelled['text'].replace('@[^\\s]+', '', regex=True)"
   ]
  },
  {
   "cell_type": "code",
   "execution_count": 4,
   "metadata": {},
   "outputs": [],
   "source": [
    "#remove non-ASCII characters\n",
    "st = set(printable)\n",
    "labelled[\"text_clean\"] = labelled[\"text\"].apply(lambda x: ''.join([\" \" if  i not in  st else i for i in x]))"
   ]
  },
  {
   "cell_type": "code",
   "execution_count": 6,
   "metadata": {},
   "outputs": [],
   "source": [
    "#removing urls\n",
    "labelled['text_clean'] = labelled['text_clean'].replace(r'http\\S+', '', regex=True).replace(r'www\\S+', '', regex=True)"
   ]
  },
  {
   "cell_type": "code",
   "execution_count": 7,
   "metadata": {},
   "outputs": [],
   "source": [
    "#converting to no caps\n",
    "labelled[\"text_clean\"] = labelled[\"text_clean\"].str.lower()"
   ]
  },
  {
   "cell_type": "code",
   "execution_count": 8,
   "metadata": {},
   "outputs": [],
   "source": [
    "#removing non-alphabet characters except space - replacing non-alphabet with a space so that words don't get combined\n",
    "labelled[\"text_clean\"] = labelled['text_clean'].replace('[^a-zA-Z1-9 ]', ' ', regex=True)"
   ]
  },
  {
   "cell_type": "code",
   "execution_count": 9,
   "metadata": {},
   "outputs": [],
   "source": [
    "#getting ready to remove stop words\n",
    "stop_words=stopwords.words('english')\n",
    "extra_words=[\"amp\"]\n",
    "stop_words.extend(extra_words)\n",
    "#removing stopwords\n",
    "labelled[\"text_clean\"] = labelled[\"text_clean\"].apply(lambda x: ' '.join([word for word in x.split() if word not in (stop_words)]))"
   ]
  },
  {
   "cell_type": "code",
   "execution_count": 10,
   "metadata": {},
   "outputs": [],
   "source": [
    "labelled = labelled[labelled.text_clean != ''].copy()"
   ]
  },
  {
   "cell_type": "code",
   "execution_count": null,
   "metadata": {},
   "outputs": [],
   "source": [
    "# lemmatize after tokenizing"
   ]
  },
  {
   "cell_type": "code",
   "execution_count": 12,
   "metadata": {},
   "outputs": [],
   "source": [
    "w_tokenizer = nltk.tokenize.WhitespaceTokenizer()\n",
    "lemmatizer = nltk.stem.WordNetLemmatizer()"
   ]
  },
  {
   "cell_type": "code",
   "execution_count": 13,
   "metadata": {},
   "outputs": [],
   "source": [
    "def lemmatize_text(text):\n",
    "    return [lemmatizer.lemmatize(w,'v') for w in w_tokenizer.tokenize(text)]"
   ]
  },
  {
   "cell_type": "code",
   "execution_count": 14,
   "metadata": {},
   "outputs": [],
   "source": [
    "labelled['text_lemmatized'] = labelled.text_clean.apply(lemmatize_text)"
   ]
  },
  {
   "cell_type": "code",
   "execution_count": 17,
   "metadata": {},
   "outputs": [],
   "source": [
    "labelled=labelled.dropna()"
   ]
  },
  {
   "cell_type": "code",
   "execution_count": 19,
   "metadata": {},
   "outputs": [],
   "source": [
    "#Split data into training and testing sets\n",
    "\n",
    "from sklearn.model_selection import train_test_split\n",
    "Train_X, Test_X, Train_Y, Test_Y = train_test_split(labelled[\"text_lemmatized\"], labelled[\"misogyny\"], test_size=0.30)"
   ]
  },
  {
   "cell_type": "code",
   "execution_count": 20,
   "metadata": {},
   "outputs": [
    {
     "data": {
      "text/plain": [
       "TfidfVectorizer(analyzer='word', binary=False, decode_error='strict',\n",
       "                dtype=<class 'numpy.float64'>, encoding='utf-8',\n",
       "                input='content', lowercase=False, max_df=1.0, max_features=None,\n",
       "                min_df=1, ngram_range=(1, 1), norm='l2', preprocessor=None,\n",
       "                smooth_idf=True, stop_words=None, strip_accents=None,\n",
       "                sublinear_tf=False, token_pattern='(?u)\\\\b\\\\w\\\\w+\\\\b',\n",
       "                tokenizer=None, use_idf=True, vocabulary=None)"
      ]
     },
     "execution_count": 20,
     "metadata": {},
     "output_type": "execute_result"
    }
   ],
   "source": [
    "from sklearn.feature_extraction.text import TfidfVectorizer\n",
    "\n",
    "Tfidf_vect = TfidfVectorizer(lowercase=False)\n",
    "Tfidf_vect.fit(labelled['text_lemmatized'])"
   ]
  },
  {
   "cell_type": "code",
   "execution_count": 21,
   "metadata": {},
   "outputs": [],
   "source": [
    "Train_X_Tfidf = Tfidf_vect.transform(Train_X)\n",
    "Test_X_Tfidf = Tfidf_vect.transform(Test_X)"
   ]
  },
  {
   "cell_type": "code",
   "execution_count": 22,
   "metadata": {},
   "outputs": [],
   "source": [
    "from sklearn import svm\n",
    "from sklearn.metrics import accuracy_score, recall_score, precision_score,balanced_accuracy_score"
   ]
  },
  {
   "cell_type": "code",
   "execution_count": 23,
   "metadata": {},
   "outputs": [
    {
     "data": {
      "text/plain": [
       "SVC(C=1000, break_ties=False, cache_size=200, class_weight=None, coef0=0.0,\n",
       "    decision_function_shape='ovr', degree=3, gamma=0.001, kernel='sigmoid',\n",
       "    max_iter=-1, probability=False, random_state=None, shrinking=True,\n",
       "    tol=0.001, verbose=False)"
      ]
     },
     "execution_count": 23,
     "metadata": {},
     "output_type": "execute_result"
    }
   ],
   "source": [
    "SVM = svm.SVC(C=1000, kernel ='sigmoid', gamma=0.001)\n",
    "SVM.fit(Train_X_Tfidf,Train_Y)"
   ]
  },
  {
   "cell_type": "code",
   "execution_count": 24,
   "metadata": {},
   "outputs": [],
   "source": [
    "trainpred = SVM.predict(Train_X_Tfidf)\n",
    "testpred = SVM.predict(Test_X_Tfidf)"
   ]
  },
  {
   "cell_type": "code",
   "execution_count": 29,
   "metadata": {},
   "outputs": [
    {
     "name": "stdout",
     "output_type": "stream",
     "text": [
      "SVM Accuracy Score ->  0.9954624543686671\n",
      "SVM Precision Score ->  0.8527508090614887\n",
      "SVM Recall Score ->  0.9261862917398945\n",
      "SVM BAR Score ->  0.9615100966736492\n"
     ]
    }
   ],
   "source": [
    "# Evaluating the model\n",
    "print(\"SVM Accuracy Score -> \",accuracy_score(testpred, Test_Y))\n",
    "print(\"SVM Precision Score -> \",precision_score(testpred, Test_Y))\n",
    "print(\"SVM Recall Score -> \",recall_score(testpred, Test_Y))\n",
    "print(\"SVM BAR Score -> \",balanced_accuracy_score(testpred, Test_Y))"
   ]
  },
  {
   "cell_type": "markdown",
   "metadata": {},
   "source": [
    "# Labelling the large dataset"
   ]
  },
  {
   "cell_type": "code",
   "execution_count": 34,
   "metadata": {},
   "outputs": [],
   "source": [
    "southasia=pd.read_csv(\"D:/southasia_tweets.csv\", dtype='unicode')"
   ]
  },
  {
   "cell_type": "code",
   "execution_count": 37,
   "metadata": {},
   "outputs": [],
   "source": [
    "#removing handle names\n",
    "southasia[\"text\"] = southasia['text'].replace('@[^\\s]+', '', regex=True)"
   ]
  },
  {
   "cell_type": "code",
   "execution_count": 38,
   "metadata": {},
   "outputs": [],
   "source": [
    "southasia[\"text\"]=southasia[\"text\"].astype(str)"
   ]
  },
  {
   "cell_type": "code",
   "execution_count": 39,
   "metadata": {},
   "outputs": [],
   "source": [
    "#remove non-ASCII characters\n",
    "southasia[\"text\"] = southasia[\"text\"].apply(lambda x: ''.join([\" \" if  i not in  st else i for i in x]))"
   ]
  },
  {
   "cell_type": "code",
   "execution_count": 40,
   "metadata": {},
   "outputs": [],
   "source": [
    "#removing urls\n",
    "southasia['text'] = southasia['text'].replace(r'http\\S+', '', regex=True).replace(r'www\\S+', '', regex=True)"
   ]
  },
  {
   "cell_type": "code",
   "execution_count": 42,
   "metadata": {},
   "outputs": [],
   "source": [
    "#removing non-alphabet characters except space - replacing non-alphabet with a space so that words don't get combined\n",
    "southasia[\"text\"] = southasia['text'].replace('[^a-zA-Z1-9 ]', ' ', regex=True)"
   ]
  },
  {
   "cell_type": "code",
   "execution_count": 43,
   "metadata": {},
   "outputs": [],
   "source": [
    "#removing stopwords\n",
    "southasia[\"text\"] = southasia[\"text\"].apply(lambda x: ' '.join([word for word in x.split() if word not in (stop_words)]))"
   ]
  },
  {
   "cell_type": "code",
   "execution_count": 45,
   "metadata": {},
   "outputs": [],
   "source": [
    "southasia['text_lemmatized'] = southasia.text.apply(lemmatize_text)"
   ]
  },
  {
   "cell_type": "code",
   "execution_count": 46,
   "metadata": {},
   "outputs": [],
   "source": [
    "southasia['text_lemmatized'] = southasia['text_lemmatized'].astype(str)"
   ]
  },
  {
   "cell_type": "code",
   "execution_count": 47,
   "metadata": {},
   "outputs": [],
   "source": [
    "#TFIDF - transforming the text\n",
    "X = Tfidf_vect.transform(southasia[\"text_lemmatized\"])"
   ]
  },
  {
   "cell_type": "code",
   "execution_count": 48,
   "metadata": {},
   "outputs": [],
   "source": [
    "#Using the SVM model to predict labels for each tweet\n",
    "predictedlabels=SVM.predict(X)"
   ]
  },
  {
   "cell_type": "code",
   "execution_count": 49,
   "metadata": {},
   "outputs": [],
   "source": [
    "#storing it as a pandas column\n",
    "southasia[\"misogyny\"] = predictedlabels"
   ]
  },
  {
   "cell_type": "code",
   "execution_count": 54,
   "metadata": {},
   "outputs": [],
   "source": [
    "southasia['Date'] = pd.to_datetime(southasia['created_at'])"
   ]
  },
  {
   "cell_type": "code",
   "execution_count": 56,
   "metadata": {},
   "outputs": [],
   "source": [
    "#one pandas dataframe with count of total tweets and misogynystic tweets per day, by country\n",
    "df=pd.DataFrame()\n",
    "df=southasia.groupby(['Date', 'country']).agg(misogyny=('misogyny', 'sum'), total=('misogyny', 'count'),)"
   ]
  },
  {
   "cell_type": "code",
   "execution_count": 57,
   "metadata": {},
   "outputs": [],
   "source": [
    "df=df.sort_values(by='Date')"
   ]
  },
  {
   "cell_type": "code",
   "execution_count": 59,
   "metadata": {},
   "outputs": [],
   "source": [
    "df.reset_index(level=0, inplace=True)"
   ]
  },
  {
   "cell_type": "code",
   "execution_count": 65,
   "metadata": {},
   "outputs": [],
   "source": [
    "df['percentmisogyny']=(df['misogyny']/df['total'])*100000"
   ]
  },
  {
   "cell_type": "code",
   "execution_count": 12,
   "metadata": {},
   "outputs": [],
   "source": [
    "final_merged=df.groupby(['Date']).agg(misogyny=('misogyny', 'sum'), total=('total', 'sum'),)"
   ]
  },
  {
   "cell_type": "code",
   "execution_count": 13,
   "metadata": {},
   "outputs": [],
   "source": [
    "final_merged.reset_index(inplace=True)"
   ]
  },
  {
   "cell_type": "code",
   "execution_count": 14,
   "metadata": {},
   "outputs": [],
   "source": [
    "final_merged[\"percent\"]=(final_merged[\"misogyny\"]/final_merged[\"total\"])*100000\n",
    "final_merged=final_merged.dropna()"
   ]
  },
  {
   "cell_type": "code",
   "execution_count": 18,
   "metadata": {},
   "outputs": [],
   "source": [
    "final_merged=final_merged.sort_values(by='Date')"
   ]
  },
  {
   "cell_type": "code",
   "execution_count": 19,
   "metadata": {},
   "outputs": [],
   "source": [
    "final_merged[\"Date\"]=final_merged['Date'].dt.date"
   ]
  },
  {
   "cell_type": "code",
   "execution_count": 35,
   "metadata": {},
   "outputs": [],
   "source": [
    "PK=df[df[\"country\"]==\"PK\"]\n",
    "IN=df[df[\"country\"]==\"IN\"]\n",
    "NP=df[df[\"country\"]==\"NP\"]\n",
    "LK=df[df[\"country\"]==\"LK\"]\n",
    "BD=df[df[\"country\"]==\"BD\"]"
   ]
  },
  {
   "cell_type": "code",
   "execution_count": 36,
   "metadata": {},
   "outputs": [],
   "source": [
    "from matplotlib import pyplot as plt"
   ]
  },
  {
   "cell_type": "code",
   "execution_count": 37,
   "metadata": {},
   "outputs": [],
   "source": [
    "plt.rcParams[\"figure.figsize\"] = [20, 5]"
   ]
  },
  {
   "cell_type": "code",
   "execution_count": 43,
   "metadata": {},
   "outputs": [
    {
     "data": {
      "image/png": "[encoded data removed]",
      "text/plain": [
       "<Figure size 1440x360 with 1 Axes>"
      ]
     },
     "metadata": {},
     "output_type": "display_data"
    }
   ],
   "source": [
    "#Figure 1 - plotting daily number of misogynystic posts\n",
    "plt.plot(IN['Date'], IN['misogyny'].values, color=\"#ffc5c0\", linewidth=2.5, label=\"India\")\n",
    "plt.plot(PK['Date'], PK['misogyny'].values, color=\"#cd5a87\", linewidth=2.5, label=\"Pakistan\")\n",
    "plt.plot(BD['Date'], BD['misogyny'].values, color=\"#60b1c4\", linewidth=2.5, label=\"Bangladesh\")\n",
    "plt.plot(NP['Date'], NP['misogyny'].values, color=\"mediumspringgreen\", linewidth=2.5, label=\"Nepal\")\n",
    "plt.plot(LK['Date'], LK['misogyny'].values, color=\"#00b300\", linewidth=2.5, label=\"Sri Lanka\")\n",
    "\n",
    "plt.xticks(horizontalalignment=\"center\", fontname=\"Arial\", fontsize=14)\n",
    "plt.yticks(horizontalalignment=\"right\", fontname=\"Arial\", fontsize=14)\n",
    "ax = plt.gca()\n",
    "ax.legend(frameon=False, loc='upper left', prop={'family': 'Arial', 'size':14.5})\n",
    "ax.spines['right'].set_color('none')\n",
    "ax.spines['top'].set_color('none')\n",
    "ax.axvline(covid, color='#623357', linestyle='--', lw=1.5)\n",
    "plt.text(covid,175, 'COVID-19 lockdowns', size=13, color='#623357')\n",
    "#plt.savefig('C:/Desktop/numbermisogynyposts.png', transparent=True)"
   ]
  }
 ],
 "metadata": {
  "kernelspec": {
   "display_name": "Python 3",
   "language": "python",
   "name": "python3"
  },
  "language_info": {
   "codemirror_mode": {
    "name": "ipython",
    "version": 3
   },
   "file_extension": ".py",
   "mimetype": "text/x-python",
   "name": "python",
   "nbconvert_exporter": "python",
   "pygments_lexer": "ipython3",
   "version": "3.7.3"
  }
 },
 "nbformat": 4,
 "nbformat_minor": 2
}
